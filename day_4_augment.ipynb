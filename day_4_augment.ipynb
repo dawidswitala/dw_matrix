{
  "nbformat": 4,
  "nbformat_minor": 0,
  "metadata": {
    "colab": {
      "name": "day_4_augment.ipynb",
      "provenance": [],
      "collapsed_sections": [],
      "mount_file_id": "1Vjng7IwBsryn5ETm3aQz0cqgh2S3qbea",
      "authorship_tag": "ABX9TyNR4IvzUd3wnnkurCfep9US",
      "include_colab_link": true
    },
    "kernelspec": {
      "name": "python3",
      "display_name": "Python 3"
    },
    "accelerator": "GPU"
  },
  "cells": [
    {
      "cell_type": "markdown",
      "metadata": {
        "id": "view-in-github",
        "colab_type": "text"
      },
      "source": [
        "<a href=\"https://colab.research.google.com/github/dawidswitala/dw_matrix/blob/master/day_4_augment.ipynb\" target=\"_parent\"><img src=\"https://colab.research.google.com/assets/colab-badge.svg\" alt=\"Open In Colab\"/></a>"
      ]
    },
    {
      "cell_type": "code",
      "metadata": {
        "id": "7eJkVfji2JlN",
        "colab_type": "code",
        "colab": {}
      },
      "source": [
        "import pandas as pd\n",
        "import numpy as np\n",
        "import os\n",
        "import datetime\n",
        "\n",
        "import tensorflow as tf\n",
        "from tensorflow.keras.models import Sequential\n",
        "from tensorflow.keras.layers import Conv2D, MaxPool2D, Dense, Flatten, Dropout\n",
        "from tensorflow.keras.utils import to_categorical\n",
        "\n",
        "import matplotlib.pyplot as plt\n",
        "from skimage import color, exposure\n",
        "\n",
        "from sklearn.metrics import accuracy_score\n",
        "%load_ext tensorboard\n",
        "\n"
      ],
      "execution_count": 0,
      "outputs": []
    },
    {
      "cell_type": "code",
      "metadata": {
        "id": "dtVJzXhC2gay",
        "colab_type": "code",
        "outputId": "e82b8fc3-eee2-4613-de46-555fbfcbe92a",
        "colab": {
          "base_uri": "https://localhost:8080/",
          "height": 34
        }
      },
      "source": [
        "cd '/content/drive/My Drive/Colab Notebooks/dw_matrix/matrix_three/dw_matrix_road_sign'\n"
      ],
      "execution_count": 2,
      "outputs": [
        {
          "output_type": "stream",
          "text": [
            "/content/drive/My Drive/Colab Notebooks/dw_matrix/matrix_three/dw_matrix_road_sign\n"
          ],
          "name": "stdout"
        }
      ]
    },
    {
      "cell_type": "code",
      "metadata": {
        "id": "avJw50ui24uH",
        "colab_type": "code",
        "colab": {}
      },
      "source": [
        "train=pd.read_pickle('data/train.p')\n",
        "test = pd.read_pickle('data/test.p')\n",
        "train.keys()\n",
        "\n",
        "X_train, y_train = train['features'], train['labels']\n",
        "X_train.shape, y_train.shape\n",
        "\n",
        "X_test, y_test = test['features'], test['labels']"
      ],
      "execution_count": 0,
      "outputs": []
    },
    {
      "cell_type": "code",
      "metadata": {
        "id": "7RW65wRO34J0",
        "colab_type": "code",
        "outputId": "51484aca-1b1b-4c0d-e0f1-b114d1867b81",
        "colab": {
          "base_uri": "https://localhost:8080/",
          "height": 70
        }
      },
      "source": [
        "np.unique(y_train)  #wszytkie unikatowe wartosci"
      ],
      "execution_count": 0,
      "outputs": [
        {
          "output_type": "execute_result",
          "data": {
            "text/plain": [
              "array([ 0,  1,  2,  3,  4,  5,  6,  7,  8,  9, 10, 11, 12, 13, 14, 15, 16,\n",
              "       17, 18, 19, 20, 21, 22, 23, 24, 25, 26, 27, 28, 29, 30, 31, 32, 33,\n",
              "       34, 35, 36, 37, 38, 39, 40, 41, 42], dtype=uint8)"
            ]
          },
          "metadata": {
            "tags": []
          },
          "execution_count": 7
        }
      ]
    },
    {
      "cell_type": "code",
      "metadata": {
        "id": "SeyxyVLN4COn",
        "colab_type": "code",
        "outputId": "8f3b53c1-2194-4ec8-effe-68132d72bd5c",
        "colab": {
          "base_uri": "https://localhost:8080/",
          "height": 34
        }
      },
      "source": [
        "len(np.unique(y_train))"
      ],
      "execution_count": 0,
      "outputs": [
        {
          "output_type": "execute_result",
          "data": {
            "text/plain": [
              "43"
            ]
          },
          "metadata": {
            "tags": []
          },
          "execution_count": 8
        }
      ]
    },
    {
      "cell_type": "code",
      "metadata": {
        "id": "0RggA2dM3Bl0",
        "colab_type": "code",
        "outputId": "a366819f-6bd9-4861-b23d-76a68cf299f3",
        "colab": {
          "base_uri": "https://localhost:8080/",
          "height": 70
        }
      },
      "source": [
        "to_categorical(y_train[1])"
      ],
      "execution_count": 0,
      "outputs": [
        {
          "output_type": "execute_result",
          "data": {
            "text/plain": [
              "array([0., 0., 0., 0., 0., 0., 0., 0., 0., 0., 0., 0., 0., 0., 0., 0., 0.,\n",
              "       0., 0., 0., 0., 0., 0., 0., 0., 0., 0., 0., 0., 0., 0., 0., 0., 0.,\n",
              "       0., 0., 0., 0., 0., 0., 0., 1.], dtype=float32)"
            ]
          },
          "metadata": {
            "tags": []
          },
          "execution_count": 6
        }
      ]
    },
    {
      "cell_type": "code",
      "metadata": {
        "id": "xsBt8oWR4QEa",
        "colab_type": "code",
        "colab": {}
      },
      "source": [
        "if y_train.ndim ==1: y_train = to_categorical(y_train)\n",
        "if y_test.ndim ==1: y_test = to_categorical(y_test)"
      ],
      "execution_count": 0,
      "outputs": []
    },
    {
      "cell_type": "code",
      "metadata": {
        "id": "9mktNi1C4QJl",
        "colab_type": "code",
        "outputId": "c81104c0-ce3c-48ea-edc2-73565e6504fc",
        "colab": {
          "base_uri": "https://localhost:8080/",
          "height": 34
        }
      },
      "source": [
        "y_train.shape  #34799 wierszy i 43 kolumny - macierz"
      ],
      "execution_count": 0,
      "outputs": [
        {
          "output_type": "execute_result",
          "data": {
            "text/plain": [
              "(34799, 43)"
            ]
          },
          "metadata": {
            "tags": []
          },
          "execution_count": 11
        }
      ]
    },
    {
      "cell_type": "code",
      "metadata": {
        "id": "TUuFHsmI6p-A",
        "colab_type": "code",
        "colab": {}
      },
      "source": [
        "input_shape = X_train.shape[1:]\n",
        "num_classes= y_train.shape[1]\n"
      ],
      "execution_count": 0,
      "outputs": []
    },
    {
      "cell_type": "code",
      "metadata": {
        "id": "tQA7YEJB3umF",
        "colab_type": "code",
        "colab": {}
      },
      "source": [
        "model = Sequential([\n",
        "            Conv2D(filters = 64, kernel_size=(3,3), activation='relu', input_shape=input_shape) ,\n",
        "            Flatten(),\n",
        "            Dense(num_classes, activation='softmax'),      \n",
        "])"
      ],
      "execution_count": 0,
      "outputs": []
    },
    {
      "cell_type": "code",
      "metadata": {
        "id": "oqbYeqcK7xAj",
        "colab_type": "code",
        "outputId": "919878e0-a425-4564-8b42-c1b08518bc39",
        "colab": {
          "base_uri": "https://localhost:8080/",
          "height": 265
        }
      },
      "source": [
        "model.summary()"
      ],
      "execution_count": 0,
      "outputs": [
        {
          "output_type": "stream",
          "text": [
            "Model: \"sequential_1\"\n",
            "_________________________________________________________________\n",
            "Layer (type)                 Output Shape              Param #   \n",
            "=================================================================\n",
            "conv2d_1 (Conv2D)            (None, 30, 30, 64)        1792      \n",
            "_________________________________________________________________\n",
            "flatten_1 (Flatten)          (None, 57600)             0         \n",
            "_________________________________________________________________\n",
            "dense_1 (Dense)              (None, 43)                2476843   \n",
            "=================================================================\n",
            "Total params: 2,478,635\n",
            "Trainable params: 2,478,635\n",
            "Non-trainable params: 0\n",
            "_________________________________________________________________\n"
          ],
          "name": "stdout"
        }
      ]
    },
    {
      "cell_type": "code",
      "metadata": {
        "id": "b4w2AR4l8CqJ",
        "colab_type": "code",
        "colab": {}
      },
      "source": [
        "model.compile(loss='categorical_crossentropy', optimizer='Adam', metrics=['accuracy'])"
      ],
      "execution_count": 0,
      "outputs": []
    },
    {
      "cell_type": "code",
      "metadata": {
        "id": "w9lTKcnj8wSd",
        "colab_type": "code",
        "outputId": "cf80d563-ed00-4c21-9068-3a83e45c08e2",
        "colab": {
          "base_uri": "https://localhost:8080/",
          "height": 52
        }
      },
      "source": [
        "model.fit(X_train,y_train)"
      ],
      "execution_count": 0,
      "outputs": [
        {
          "output_type": "stream",
          "text": [
            "1088/1088 [==============================] - 3s 3ms/step - loss: 11.1412 - accuracy: 0.7944\n"
          ],
          "name": "stdout"
        },
        {
          "output_type": "execute_result",
          "data": {
            "text/plain": [
              "<tensorflow.python.keras.callbacks.History at 0x7fb870044518>"
            ]
          },
          "metadata": {
            "tags": []
          },
          "execution_count": 10
        }
      ]
    },
    {
      "cell_type": "code",
      "metadata": {
        "id": "t6akiYRC87ic",
        "colab_type": "code",
        "colab": {}
      },
      "source": [
        "def get_cnn_v1(input_shape,num_classes):\n",
        " return Sequential([\n",
        "            Conv2D(filters = 64, kernel_size=(3,3), activation='relu', input_shape=input_shape) ,\n",
        "            Flatten(),\n",
        "            Dense(num_classes, activation='softmax'),      ])\n",
        "  \n",
        "def train_model(model,X_train,y_train, params_fit ={} ):\n",
        "  model.compile(loss='categorical_crossentropy', optimizer='Adam', metrics=['accuracy'])\n",
        "\n",
        "  logdir = os.path.join(\"logs\", datetime.datetime.now().strftime(\"%Y%m%d-%H%M%S\"))\n",
        "  tensorboard_callbacks = tf.keras.callbacks.TensorBoard(logdir, histogram_freq=1)\n",
        "\n",
        "  model.fit(X_train,\n",
        "            y_train,\n",
        "            batch_size = params_fit.get('batch_size', 128),\n",
        "            epochs = params_fit.get('epochs', 5),\n",
        "            verbose = params_fit.get('verbose', 1),\n",
        "            validation_data = params_fit.get('validation_data', (X_train,y_train)),\n",
        "            callbacks=[tensorboard_callbacks]\n",
        "            \n",
        "            )\n",
        "  return model\n"
      ],
      "execution_count": 0,
      "outputs": []
    },
    {
      "cell_type": "code",
      "metadata": {
        "id": "JNhKem3h_PsF",
        "colab_type": "code",
        "outputId": "f2f3f2ef-4f6c-4b03-9f59-669c422cfeee",
        "colab": {
          "base_uri": "https://localhost:8080/",
          "height": 194
        }
      },
      "source": [
        "model = get_cnn_v1(input_shape,num_classes)\n",
        "model_trained = train_model(model,X_train,y_train )"
      ],
      "execution_count": 7,
      "outputs": [
        {
          "output_type": "stream",
          "text": [
            "Epoch 1/5\n",
            "272/272 [==============================] - 3s 12ms/step - loss: 43.9352 - accuracy: 0.6999 - val_loss: 0.2248 - val_accuracy: 0.9486\n",
            "Epoch 2/5\n",
            "272/272 [==============================] - 3s 11ms/step - loss: 0.2224 - accuracy: 0.9507 - val_loss: 0.1650 - val_accuracy: 0.9630\n",
            "Epoch 3/5\n",
            "272/272 [==============================] - 3s 10ms/step - loss: 0.1371 - accuracy: 0.9690 - val_loss: 0.0685 - val_accuracy: 0.9823\n",
            "Epoch 4/5\n",
            "272/272 [==============================] - 3s 11ms/step - loss: 0.0841 - accuracy: 0.9815 - val_loss: 0.0671 - val_accuracy: 0.9856\n",
            "Epoch 5/5\n",
            "272/272 [==============================] - 3s 11ms/step - loss: 0.1295 - accuracy: 0.9721 - val_loss: 0.0647 - val_accuracy: 0.9845\n"
          ],
          "name": "stdout"
        }
      ]
    },
    {
      "cell_type": "code",
      "metadata": {
        "id": "NddNO1mibtpR",
        "colab_type": "code",
        "colab": {
          "base_uri": "https://localhost:8080/",
          "height": 212
        },
        "outputId": "5760c4c9-6b3e-46a6-9980-2e7c6205aed9"
      },
      "source": [
        "def predict(model_trained, X_test, y_test, scoring = accuracy_score ):\n",
        " \n",
        "  y_test_norm = np.argmax(y_test,axis=1)\n",
        "  y_pred_prob = model_trained.predict(X_test)\n",
        "  y_pred=np.argmax(y_pred_prob,axis=1)\n",
        "  return scoring(y_test_norm,y_pred)\n",
        "\n"
      ],
      "execution_count": 9,
      "outputs": [
        {
          "output_type": "execute_result",
          "data": {
            "text/plain": [
              "array([3.2074753e-05, 1.2933907e-02, 1.2011747e-10, 1.3098362e-12,\n",
              "       9.8703408e-01, 3.0286287e-11, 2.9135414e-12, 4.9600714e-16,\n",
              "       3.8983733e-25, 8.9927835e-14, 1.6719258e-23, 3.8769349e-11,\n",
              "       3.6910326e-25, 7.1568692e-18, 1.5332733e-24, 2.1769207e-30,\n",
              "       4.9356542e-21, 2.2940733e-38, 2.8686110e-16, 2.1679276e-24,\n",
              "       1.5541638e-20, 8.9578077e-18, 9.7120913e-23, 1.6123739e-20,\n",
              "       1.5712394e-24, 1.2141995e-27, 1.3914515e-24, 1.1312108e-26,\n",
              "       7.6537951e-22, 1.7553360e-21, 1.3516892e-18, 2.8120428e-24,\n",
              "       2.9261469e-25, 1.4203862e-22, 9.1976005e-25, 7.6911754e-21,\n",
              "       5.1084622e-27, 1.9875318e-21, 3.0002059e-24, 2.4960242e-37,\n",
              "       1.6925224e-18, 1.0758090e-24, 7.6820460e-12], dtype=float32)"
            ]
          },
          "metadata": {
            "tags": []
          },
          "execution_count": 9
        }
      ]
    },
    {
      "cell_type": "code",
      "metadata": {
        "id": "swraC3VwjEHr",
        "colab_type": "code",
        "colab": {
          "base_uri": "https://localhost:8080/",
          "height": 34
        },
        "outputId": "1470b02c-02c7-4819-f276-29f5d75a1855"
      },
      "source": [
        " predict(model_trained, X_test, y_test)"
      ],
      "execution_count": 10,
      "outputs": [
        {
          "output_type": "execute_result",
          "data": {
            "text/plain": [
              "0.8356009070294784"
            ]
          },
          "metadata": {
            "tags": []
          },
          "execution_count": 10
        }
      ]
    },
    {
      "cell_type": "code",
      "metadata": {
        "id": "8-eMlD2GeoHg",
        "colab_type": "code",
        "colab": {}
      },
      "source": [
        "df=pd.read_csv('data/signnames.csv')\n",
        "labels_dict = df.to_dict()['b']"
      ],
      "execution_count": 0,
      "outputs": []
    },
    {
      "cell_type": "code",
      "metadata": {
        "id": "BON4N5VCe3ZV",
        "colab_type": "code",
        "colab": {
          "base_uri": "https://localhost:8080/",
          "height": 212
        },
        "outputId": "81f9f715-3f52-4620-cd99-f7a92d830023"
      },
      "source": [
        "y_pred_prob_2 = model_trained.predict(X_test)\n",
        "y_pred_prob_2[1000]"
      ],
      "execution_count": 21,
      "outputs": [
        {
          "output_type": "execute_result",
          "data": {
            "text/plain": [
              "array([1.1672590e-17, 1.9012409e-09, 5.6788223e-15, 9.0858237e-21,\n",
              "       1.0000000e+00, 2.0164795e-11, 4.9412225e-33, 2.4665835e-11,\n",
              "       5.8176347e-17, 2.3706151e-19, 2.6396382e-23, 3.1151839e-29,\n",
              "       8.1128761e-30, 2.4533146e-26, 1.6465018e-31, 1.1725678e-28,\n",
              "       1.4274818e-21, 0.0000000e+00, 2.4324366e-22, 9.3272333e-27,\n",
              "       4.1003109e-25, 8.8614689e-31, 2.2720015e-27, 4.2484665e-26,\n",
              "       2.0466110e-25, 3.7810723e-26, 1.4174445e-27, 4.8339873e-31,\n",
              "       2.0196481e-29, 4.4498656e-23, 2.4587975e-32, 2.1184746e-26,\n",
              "       0.0000000e+00, 1.3225371e-31, 7.2746993e-36, 0.0000000e+00,\n",
              "       5.2879719e-32, 1.9864632e-37, 2.4700331e-31, 8.6987831e-34,\n",
              "       1.8155408e-35, 3.2987469e-37, 2.0152066e-30], dtype=float32)"
            ]
          },
          "metadata": {
            "tags": []
          },
          "execution_count": 21
        }
      ]
    },
    {
      "cell_type": "code",
      "metadata": {
        "id": "MMVue-xqfRaT",
        "colab_type": "code",
        "colab": {
          "base_uri": "https://localhost:8080/",
          "height": 34
        },
        "outputId": "b9df1caf-74c1-46bb-d05e-d2578e3f6387"
      },
      "source": [
        "np.argmax(y_pred_prob_2[1000])"
      ],
      "execution_count": 22,
      "outputs": [
        {
          "output_type": "execute_result",
          "data": {
            "text/plain": [
              "4"
            ]
          },
          "metadata": {
            "tags": []
          },
          "execution_count": 22
        }
      ]
    },
    {
      "cell_type": "code",
      "metadata": {
        "id": "w0HkfslrfV4-",
        "colab_type": "code",
        "colab": {
          "base_uri": "https://localhost:8080/",
          "height": 34
        },
        "outputId": "0c8e0cba-63fa-465e-9649-2996b71ab6c4"
      },
      "source": [
        "labels_dict[ np.argmax(y_pred_prob_2[1000]) ]"
      ],
      "execution_count": 24,
      "outputs": [
        {
          "output_type": "execute_result",
          "data": {
            "text/plain": [
              "'Speed limit (70km/h)'"
            ]
          },
          "metadata": {
            "tags": []
          },
          "execution_count": 24
        }
      ]
    },
    {
      "cell_type": "code",
      "metadata": {
        "id": "-po8BHQXbtuK",
        "colab_type": "code",
        "colab": {
          "base_uri": "https://localhost:8080/",
          "height": 283
        },
        "outputId": "af938338-751c-4080-b294-3b3ff374a821"
      },
      "source": [
        "plt.imshow(X_test[1000])"
      ],
      "execution_count": 19,
      "outputs": [
        {
          "output_type": "execute_result",
          "data": {
            "text/plain": [
              "<matplotlib.image.AxesImage at 0x7f1720ac4748>"
            ]
          },
          "metadata": {
            "tags": []
          },
          "execution_count": 19
        },
        {
          "output_type": "display_data",
          "data": {
            "image/png": "[encoded data removed]",
            "text/plain": [
              "<Figure size 432x288 with 1 Axes>"
            ]
          },
          "metadata": {
            "tags": []
          }
        }
      ]
    },
    {
      "cell_type": "code",
      "metadata": {
        "id": "vIJKRTt1eCOq",
        "colab_type": "code",
        "colab": {
          "base_uri": "https://localhost:8080/",
          "height": 282
        },
        "outputId": "fbbad4ab-cbf3-47c3-f8f5-13dcbbc73880"
      },
      "source": [
        "plt.bar(range(43), y_pred_prob_2[1000])"
      ],
      "execution_count": 26,
      "outputs": [
        {
          "output_type": "execute_result",
          "data": {
            "text/plain": [
              "<BarContainer object of 43 artists>"
            ]
          },
          "metadata": {
            "tags": []
          },
          "execution_count": 26
        },
        {
          "output_type": "display_data",
          "data": {
            "image/png": "[encoded data removed]",
            "text/plain": [
              "<Figure size 432x288 with 1 Axes>"
            ]
          },
          "metadata": {
            "tags": []
          }
        }
      ]
    },
    {
      "cell_type": "code",
      "metadata": {
        "id": "xHcHZRVLbtzZ",
        "colab_type": "code",
        "colab": {}
      },
      "source": [
        "def train_and_predict(model):\n",
        "  \n",
        "  model_trained = train_model(model,X_train,y_train )\n",
        "  return predict(model_trained, X_test, y_test)"
      ],
      "execution_count": 0,
      "outputs": []
    },
    {
      "cell_type": "code",
      "metadata": {
        "id": "4B9Z9eLJbtmZ",
        "colab_type": "code",
        "colab": {
          "base_uri": "https://localhost:8080/",
          "height": 212
        },
        "outputId": "c090f22d-2aee-4f53-f1a7-5f4824c6dd6d"
      },
      "source": [
        "def get_cnn_v2(input_shape,num_classes):\n",
        " return Sequential([\n",
        "            Conv2D(filters = 32, kernel_size=(3,3), activation='relu', input_shape=input_shape) ,\n",
        "            MaxPool2D(),\n",
        "            Dropout(0.3),\n",
        "\n",
        "            Conv2D(filters = 64, kernel_size=(3,3), activation='relu') ,\n",
        "            MaxPool2D(),\n",
        "            Dropout(0.3),\n",
        "\n",
        "            Flatten(),\n",
        "            Dense(1024, activation='relu'),     \n",
        "            Dropout(0.3),\n",
        "            Dense(num_classes, activation='softmax'),\n",
        "              ])\n",
        "\n",
        "\n",
        "train_and_predict(  get_cnn_v2(input_shape,num_classes) )"
      ],
      "execution_count": 31,
      "outputs": [
        {
          "output_type": "stream",
          "text": [
            "Epoch 1/5\n",
            "272/272 [==============================] - 3s 11ms/step - loss: 4.6191 - accuracy: 0.3238 - val_loss: 1.1800 - val_accuracy: 0.6965\n",
            "Epoch 2/5\n",
            "272/272 [==============================] - 3s 10ms/step - loss: 0.9765 - accuracy: 0.7108 - val_loss: 0.3034 - val_accuracy: 0.9358\n",
            "Epoch 3/5\n",
            "272/272 [==============================] - 3s 10ms/step - loss: 0.4884 - accuracy: 0.8565 - val_loss: 0.1412 - val_accuracy: 0.9677\n",
            "Epoch 4/5\n",
            "272/272 [==============================] - 3s 10ms/step - loss: 0.3276 - accuracy: 0.9019 - val_loss: 0.0760 - val_accuracy: 0.9818\n",
            "Epoch 5/5\n",
            "272/272 [==============================] - 3s 10ms/step - loss: 0.2525 - accuracy: 0.9243 - val_loss: 0.0556 - val_accuracy: 0.9853\n"
          ],
          "name": "stdout"
        },
        {
          "output_type": "execute_result",
          "data": {
            "text/plain": [
              "0.8954648526077098"
            ]
          },
          "metadata": {
            "tags": []
          },
          "execution_count": 31
        }
      ]
    },
    {
      "cell_type": "code",
      "metadata": {
        "id": "5ZaSJ4ZjAzvW",
        "colab_type": "code",
        "colab": {
          "base_uri": "https://localhost:8080/",
          "height": 212
        },
        "outputId": "b79ca0fb-554a-4f7f-990d-d3cd1ca1a7da"
      },
      "source": [
        "def get_cnn_v3(input_shape,num_classes):\n",
        " return Sequential([\n",
        "            Conv2D(filters = 32, kernel_size=(3,3), activation='relu', input_shape=input_shape) ,\n",
        "            Conv2D(filters = 32, kernel_size=(3,3), activation='relu') ,\n",
        "            MaxPool2D(),\n",
        "            Dropout(0.3),\n",
        "\n",
        "            Conv2D(filters = 64, kernel_size=(3,3), activation='relu') ,\n",
        "            Conv2D(filters = 64, kernel_size=(3,3), activation='relu') ,\n",
        "            MaxPool2D(),\n",
        "            Dropout(0.3),\n",
        "\n",
        "            Flatten(),\n",
        "            Dense(1024, activation='relu'),     \n",
        "            Dropout(0.3),\n",
        "            Dense(num_classes, activation='softmax'),\n",
        "              ])\n",
        "\n",
        "\n",
        "train_and_predict(  get_cnn_v3(input_shape,num_classes) )"
      ],
      "execution_count": 32,
      "outputs": [
        {
          "output_type": "stream",
          "text": [
            "Epoch 1/5\n",
            "272/272 [==============================] - 4s 16ms/step - loss: 2.4269 - accuracy: 0.4817 - val_loss: 0.4065 - val_accuracy: 0.8937\n",
            "Epoch 2/5\n",
            "272/272 [==============================] - 4s 15ms/step - loss: 0.4886 - accuracy: 0.8588 - val_loss: 0.0887 - val_accuracy: 0.9804\n",
            "Epoch 3/5\n",
            "272/272 [==============================] - 4s 15ms/step - loss: 0.2555 - accuracy: 0.9260 - val_loss: 0.0482 - val_accuracy: 0.9900\n",
            "Epoch 4/5\n",
            "272/272 [==============================] - 4s 15ms/step - loss: 0.1706 - accuracy: 0.9508 - val_loss: 0.0235 - val_accuracy: 0.9944\n",
            "Epoch 5/5\n",
            "272/272 [==============================] - 4s 15ms/step - loss: 0.1273 - accuracy: 0.9636 - val_loss: 0.0228 - val_accuracy: 0.9953\n"
          ],
          "name": "stdout"
        },
        {
          "output_type": "execute_result",
          "data": {
            "text/plain": [
              "0.9634920634920635"
            ]
          },
          "metadata": {
            "tags": []
          },
          "execution_count": 32
        }
      ]
    },
    {
      "cell_type": "code",
      "metadata": {
        "id": "rfEORPp0CBrD",
        "colab_type": "code",
        "colab": {
          "base_uri": "https://localhost:8080/",
          "height": 212
        },
        "outputId": "4ab1fb53-1134-4dfe-cd2a-535f91227445"
      },
      "source": [
        "def get_cnn_v4(input_shape,num_classes):\n",
        " return Sequential([\n",
        "            Conv2D(filters = 32, kernel_size=(3,3), activation='relu', input_shape=input_shape) ,\n",
        "            Conv2D(filters = 32, kernel_size=(3,3), activation='relu', padding='same') ,\n",
        "            MaxPool2D(),\n",
        "            Dropout(0.3),\n",
        "\n",
        "            Conv2D(filters = 64, kernel_size=(3,3), activation='relu') ,\n",
        "            Conv2D(filters = 64, kernel_size=(3,3), activation='relu', padding='same') ,\n",
        "            MaxPool2D(),\n",
        "            Dropout(0.3),\n",
        "\n",
        "            Conv2D(filters = 64, kernel_size=(3,3), activation='relu') ,\n",
        "            Conv2D(filters = 64, kernel_size=(3,3), activation='relu', padding='same') ,\n",
        "            MaxPool2D(),\n",
        "            Dropout(0.3),\n",
        "\n",
        "            Flatten(),\n",
        "            Dense(1024, activation='relu'),     \n",
        "            Dropout(0.3),\n",
        "            Dense(num_classes, activation='softmax'),\n",
        "              ])\n",
        "\n",
        "\n",
        "train_and_predict(  get_cnn_v4(input_shape,num_classes) )"
      ],
      "execution_count": 33,
      "outputs": [
        {
          "output_type": "stream",
          "text": [
            "Epoch 1/5\n",
            "272/272 [==============================] - 5s 17ms/step - loss: 2.2165 - accuracy: 0.4071 - val_loss: 0.4579 - val_accuracy: 0.8781\n",
            "Epoch 2/5\n",
            "272/272 [==============================] - 4s 16ms/step - loss: 0.5054 - accuracy: 0.8512 - val_loss: 0.0965 - val_accuracy: 0.9749\n",
            "Epoch 3/5\n",
            "272/272 [==============================] - 4s 16ms/step - loss: 0.2509 - accuracy: 0.9245 - val_loss: 0.0552 - val_accuracy: 0.9839\n",
            "Epoch 4/5\n",
            "272/272 [==============================] - 4s 16ms/step - loss: 0.1791 - accuracy: 0.9478 - val_loss: 0.0329 - val_accuracy: 0.9911\n",
            "Epoch 5/5\n",
            "272/272 [==============================] - 4s 16ms/step - loss: 0.1394 - accuracy: 0.9595 - val_loss: 0.0269 - val_accuracy: 0.9933\n"
          ],
          "name": "stdout"
        },
        {
          "output_type": "execute_result",
          "data": {
            "text/plain": [
              "0.9696145124716553"
            ]
          },
          "metadata": {
            "tags": []
          },
          "execution_count": 33
        }
      ]
    },
    {
      "cell_type": "code",
      "metadata": {
        "id": "AOqbLU-GCui9",
        "colab_type": "code",
        "colab": {
          "base_uri": "https://localhost:8080/",
          "height": 212
        },
        "outputId": "12ca8183-30b6-4ef5-e61a-fabf2be4eb2f"
      },
      "source": [
        "def get_cnn_v5(input_shape,num_classes):\n",
        " return Sequential([\n",
        "            Conv2D(filters = 32, kernel_size=(3,3), activation='relu', input_shape=input_shape) ,\n",
        "            Conv2D(filters = 32, kernel_size=(3,3), activation='relu', padding='same') ,\n",
        "            MaxPool2D(),\n",
        "            Dropout(0.3),\n",
        "\n",
        "            Conv2D(filters = 64, kernel_size=(3,3), activation='relu') ,\n",
        "            Conv2D(filters = 64, kernel_size=(3,3), activation='relu', padding='same') ,\n",
        "            MaxPool2D(),\n",
        "            Dropout(0.3),\n",
        "\n",
        "            Conv2D(filters = 64, kernel_size=(3,3), activation='relu') ,\n",
        "            Conv2D(filters = 64, kernel_size=(3,3), activation='relu', padding='same') ,\n",
        "            MaxPool2D(),\n",
        "            Dropout(0.3),\n",
        "\n",
        "            Flatten(),\n",
        "            \n",
        "            Dense(1024, activation='relu'),     \n",
        "            Dropout(0.3),\n",
        "\n",
        "            Dense(1024, activation='relu'),     \n",
        "            Dropout(0.3),\n",
        "            \n",
        "            Dense(num_classes, activation='softmax'),\n",
        "              ])\n",
        "\n",
        "\n",
        "train_and_predict(  get_cnn_v5(input_shape,num_classes) )"
      ],
      "execution_count": 34,
      "outputs": [
        {
          "output_type": "stream",
          "text": [
            "Epoch 1/5\n",
            "272/272 [==============================] - 5s 18ms/step - loss: 2.5977 - accuracy: 0.2845 - val_loss: 1.3419 - val_accuracy: 0.5423\n",
            "Epoch 2/5\n",
            "272/272 [==============================] - 5s 17ms/step - loss: 1.0037 - accuracy: 0.6763 - val_loss: 0.2958 - val_accuracy: 0.9090\n",
            "Epoch 3/5\n",
            "272/272 [==============================] - 4s 17ms/step - loss: 0.4281 - accuracy: 0.8637 - val_loss: 0.1459 - val_accuracy: 0.9597\n",
            "Epoch 4/5\n",
            "272/272 [==============================] - 5s 17ms/step - loss: 0.2772 - accuracy: 0.9171 - val_loss: 0.0608 - val_accuracy: 0.9829\n",
            "Epoch 5/5\n",
            "272/272 [==============================] - 5s 17ms/step - loss: 0.2007 - accuracy: 0.9379 - val_loss: 0.0391 - val_accuracy: 0.9887\n"
          ],
          "name": "stdout"
        },
        {
          "output_type": "execute_result",
          "data": {
            "text/plain": [
              "0.9607709750566893"
            ]
          },
          "metadata": {
            "tags": []
          },
          "execution_count": 34
        }
      ]
    },
    {
      "cell_type": "code",
      "metadata": {
        "id": "z_b2xT-lEL94",
        "colab_type": "code",
        "colab": {}
      },
      "source": [
        "X_train_grey = color.rgb2gray(X_train).shape\n",
        "X_test_grey = color.rgb2gray(X_test).shape\n"
      ],
      "execution_count": 0,
      "outputs": []
    },
    {
      "cell_type": "code",
      "metadata": {
        "id": "4p_BW_PQEicw",
        "colab_type": "code",
        "colab": {
          "base_uri": "https://localhost:8080/",
          "height": 283
        },
        "outputId": "b9831807-ac86-4976-b965-b83cf23fdc9d"
      },
      "source": [
        "plt.imshow(color.rgb2gray(X_train[0]))"
      ],
      "execution_count": 36,
      "outputs": [
        {
          "output_type": "execute_result",
          "data": {
            "text/plain": [
              "<matplotlib.image.AxesImage at 0x7f17123b4cc0>"
            ]
          },
          "metadata": {
            "tags": []
          },
          "execution_count": 36
        },
        {
          "output_type": "display_data",
          "data": {
            "image/png": "[encoded data removed]",
            "text/plain": [
              "<Figure size 432x288 with 1 Axes>"
            ]
          },
          "metadata": {
            "tags": []
          }
        }
      ]
    },
    {
      "cell_type": "code",
      "metadata": {
        "id": "kAMuRcn7Esyl",
        "colab_type": "code",
        "colab": {
          "base_uri": "https://localhost:8080/",
          "height": 283
        },
        "outputId": "59fec69a-02b4-4863-93ea-6063e70db8f6"
      },
      "source": [
        "plt.imshow(color.rgb2gray(X_train[0]), cmap = plt.get_cmap('gray'))"
      ],
      "execution_count": 37,
      "outputs": [
        {
          "output_type": "execute_result",
          "data": {
            "text/plain": [
              "<matplotlib.image.AxesImage at 0x7f17205d2da0>"
            ]
          },
          "metadata": {
            "tags": []
          },
          "execution_count": 37
        },
        {
          "output_type": "display_data",
          "data": {
            "image/png": "[encoded data removed]",
            "text/plain": [
              "<Figure size 432x288 with 1 Axes>"
            ]
          },
          "metadata": {
            "tags": []
          }
        }
      ]
    },
    {
      "cell_type": "code",
      "metadata": {
        "id": "J5IhByrXE8WY",
        "colab_type": "code",
        "colab": {}
      },
      "source": [
        "X_train_grey = color.rgb2gray(X_train).reshape(-1,32,32,1)\n",
        "X_test_grey = color.rgb2gray(X_test).reshape(-1,32,32,1)"
      ],
      "execution_count": 0,
      "outputs": []
    },
    {
      "cell_type": "code",
      "metadata": {
        "id": "jn0JHfbtGJoi",
        "colab_type": "code",
        "colab": {
          "base_uri": "https://localhost:8080/",
          "height": 212
        },
        "outputId": "05f7b7bc-972e-4824-b280-1b3df6fabfbb"
      },
      "source": [
        "model = get_cnn_v5((32,32,1),num_classes)\n",
        "model_trained = train_model(model,X_train_grey,y_train, params_fit={} )\n",
        "predict(model_trained, X_test_grey, y_test )"
      ],
      "execution_count": 47,
      "outputs": [
        {
          "output_type": "stream",
          "text": [
            "Epoch 1/5\n",
            "272/272 [==============================] - 5s 18ms/step - loss: 2.5866 - accuracy: 0.2613 - val_loss: 0.7214 - val_accuracy: 0.7612\n",
            "Epoch 2/5\n",
            "272/272 [==============================] - 5s 17ms/step - loss: 0.5358 - accuracy: 0.8233 - val_loss: 0.1307 - val_accuracy: 0.9623\n",
            "Epoch 3/5\n",
            "272/272 [==============================] - 5s 17ms/step - loss: 0.2371 - accuracy: 0.9241 - val_loss: 0.0705 - val_accuracy: 0.9801\n",
            "Epoch 4/5\n",
            "272/272 [==============================] - 4s 17ms/step - loss: 0.1515 - accuracy: 0.9527 - val_loss: 0.0316 - val_accuracy: 0.9911\n",
            "Epoch 5/5\n",
            "272/272 [==============================] - 5s 17ms/step - loss: 0.1211 - accuracy: 0.9620 - val_loss: 0.0376 - val_accuracy: 0.9888\n"
          ],
          "name": "stdout"
        },
        {
          "output_type": "execute_result",
          "data": {
            "text/plain": [
              "0.9657596371882086"
            ]
          },
          "metadata": {
            "tags": []
          },
          "execution_count": 47
        }
      ]
    }
  ]
}