{
  "nbformat": 4,
  "nbformat_minor": 0,
  "metadata": {
    "colab": {
      "name": "day_5_tunning_hyperpametres.ipynb",
      "provenance": [],
      "collapsed_sections": [],
      "mount_file_id": "1HtcUI-6NjZEEd09LLRafl-A_uGL4LDrI",
      "authorship_tag": "ABX9TyOujVPobe5svqjK4BryxfuV",
      "include_colab_link": true
    },
    "kernelspec": {
      "name": "python3",
      "display_name": "Python 3"
    },
    "accelerator": "GPU"
  },
  "cells": [
    {
      "cell_type": "markdown",
      "metadata": {
        "id": "view-in-github",
        "colab_type": "text"
      },
      "source": [
        "<a href=\"https://colab.research.google.com/github/dawidswitala/dw_matrix/blob/master/day_5_tunning_hyperpametres.ipynb\" target=\"_parent\"><img src=\"https://colab.research.google.com/assets/colab-badge.svg\" alt=\"Open In Colab\"/></a>"
      ]
    },
    {
      "cell_type": "code",
      "metadata": {
        "id": "woB0IizKMOEV",
        "colab_type": "code",
        "colab": {
          "base_uri": "https://localhost:8080/",
          "height": 176
        },
        "outputId": "22e27cd1-6de7-4f29-c3de-b6507f23299a"
      },
      "source": [
        "!pip install hyperopt"
      ],
      "execution_count": 2,
      "outputs": [
        {
          "output_type": "stream",
          "text": [
            "Requirement already satisfied: hyperopt in /usr/local/lib/python3.6/dist-packages (0.1.2)\n",
            "Requirement already satisfied: six in /usr/local/lib/python3.6/dist-packages (from hyperopt) (1.12.0)\n",
            "Requirement already satisfied: networkx in /usr/local/lib/python3.6/dist-packages (from hyperopt) (2.4)\n",
            "Requirement already satisfied: scipy in /usr/local/lib/python3.6/dist-packages (from hyperopt) (1.4.1)\n",
            "Requirement already satisfied: pymongo in /usr/local/lib/python3.6/dist-packages (from hyperopt) (3.10.1)\n",
            "Requirement already satisfied: numpy in /usr/local/lib/python3.6/dist-packages (from hyperopt) (1.18.2)\n",
            "Requirement already satisfied: tqdm in /usr/local/lib/python3.6/dist-packages (from hyperopt) (4.38.0)\n",
            "Requirement already satisfied: future in /usr/local/lib/python3.6/dist-packages (from hyperopt) (0.16.0)\n",
            "Requirement already satisfied: decorator>=4.3.0 in /usr/local/lib/python3.6/dist-packages (from networkx->hyperopt) (4.4.2)\n"
          ],
          "name": "stdout"
        }
      ]
    },
    {
      "cell_type": "code",
      "metadata": {
        "id": "7eJkVfji2JlN",
        "colab_type": "code",
        "colab": {
          "base_uri": "https://localhost:8080/",
          "height": 52
        },
        "outputId": "91c94a12-6d6f-4adb-d180-3b93a3b85a16"
      },
      "source": [
        "import pandas as pd\n",
        "import numpy as np\n",
        "import os\n",
        "import datetime\n",
        "\n",
        "import tensorflow as tf\n",
        "from tensorflow.keras.models import Sequential\n",
        "from tensorflow.keras.layers import Conv2D, MaxPool2D, Dense, Flatten, Dropout\n",
        "from tensorflow.keras.utils import to_categorical\n",
        "\n",
        "import matplotlib.pyplot as plt\n",
        "from skimage import color, exposure\n",
        "\n",
        "from sklearn.metrics import accuracy_score\n",
        "%load_ext tensorboard\n",
        "\n",
        "from hyperopt import hp, STATUS_OK, tpe, Trials, fmin\n",
        "\n"
      ],
      "execution_count": 15,
      "outputs": [
        {
          "output_type": "stream",
          "text": [
            "The tensorboard extension is already loaded. To reload it, use:\n",
            "  %reload_ext tensorboard\n"
          ],
          "name": "stdout"
        }
      ]
    },
    {
      "cell_type": "code",
      "metadata": {
        "id": "dtVJzXhC2gay",
        "colab_type": "code",
        "outputId": "e1218507-a589-4ca1-a002-85f93ba9cebd",
        "colab": {
          "base_uri": "https://localhost:8080/",
          "height": 34
        }
      },
      "source": [
        "cd '/content/drive/My Drive/Colab Notebooks/dw_matrix/matrix_three/dw_matrix_road_sign'\n"
      ],
      "execution_count": 4,
      "outputs": [
        {
          "output_type": "stream",
          "text": [
            "/content/drive/My Drive/Colab Notebooks/dw_matrix/matrix_three/dw_matrix_road_sign\n"
          ],
          "name": "stdout"
        }
      ]
    },
    {
      "cell_type": "code",
      "metadata": {
        "id": "avJw50ui24uH",
        "colab_type": "code",
        "colab": {}
      },
      "source": [
        "train=pd.read_pickle('data/train.p')\n",
        "test = pd.read_pickle('data/test.p')\n",
        "train.keys()\n",
        "\n",
        "X_train, y_train = train['features'], train['labels']\n",
        "X_train.shape, y_train.shape\n",
        "\n",
        "X_test, y_test = test['features'], test['labels']"
      ],
      "execution_count": 0,
      "outputs": []
    },
    {
      "cell_type": "code",
      "metadata": {
        "id": "xsBt8oWR4QEa",
        "colab_type": "code",
        "colab": {}
      },
      "source": [
        "if y_train.ndim ==1: y_train = to_categorical(y_train)\n",
        "if y_test.ndim ==1: y_test = to_categorical(y_test)"
      ],
      "execution_count": 0,
      "outputs": []
    },
    {
      "cell_type": "code",
      "metadata": {
        "id": "TUuFHsmI6p-A",
        "colab_type": "code",
        "colab": {}
      },
      "source": [
        "input_shape = X_train.shape[1:]\n",
        "num_classes= y_train.shape[1]\n"
      ],
      "execution_count": 0,
      "outputs": []
    },
    {
      "cell_type": "code",
      "metadata": {
        "id": "t6akiYRC87ic",
        "colab_type": "code",
        "colab": {}
      },
      "source": [
        "def train_model(model,X_train,y_train, params_fit ={} ):\n",
        "  model.compile(loss='categorical_crossentropy', optimizer='Adam', metrics=['accuracy'])\n",
        "\n",
        "  logdir = os.path.join(\"logs\", datetime.datetime.now().strftime(\"%Y%m%d-%H%M%S\"))\n",
        "  tensorboard_callbacks = tf.keras.callbacks.TensorBoard(logdir, histogram_freq=1)\n",
        "\n",
        "  model.fit(X_train,\n",
        "            y_train,\n",
        "            batch_size = params_fit.get('batch_size', 128),\n",
        "            epochs = params_fit.get('epochs', 5),\n",
        "            verbose = params_fit.get('verbose', 1),\n",
        "            validation_data = params_fit.get('validation_data', (X_train,y_train)),\n",
        "            callbacks=[tensorboard_callbacks]\n",
        "            \n",
        "            )\n",
        "  return model\n"
      ],
      "execution_count": 0,
      "outputs": []
    },
    {
      "cell_type": "code",
      "metadata": {
        "id": "NddNO1mibtpR",
        "colab_type": "code",
        "colab": {}
      },
      "source": [
        "def predict(model_trained, X_test, y_test, scoring = accuracy_score ):\n",
        " \n",
        "  y_test_norm = np.argmax(y_test,axis=1)\n",
        "  y_pred_prob = model_trained.predict(X_test)\n",
        "  y_pred=np.argmax(y_pred_prob,axis=1)\n",
        "  return scoring(y_test_norm,y_pred)\n",
        "\n"
      ],
      "execution_count": 0,
      "outputs": []
    },
    {
      "cell_type": "code",
      "metadata": {
        "id": "8-eMlD2GeoHg",
        "colab_type": "code",
        "colab": {}
      },
      "source": [
        "df=pd.read_csv('data/signnames.csv')\n",
        "labels_dict = df.to_dict()['b']"
      ],
      "execution_count": 0,
      "outputs": []
    },
    {
      "cell_type": "code",
      "metadata": {
        "id": "AOqbLU-GCui9",
        "colab_type": "code",
        "colab": {}
      },
      "source": [
        "def get_cnn_v5(input_shape,num_classes):\n",
        " return Sequential([\n",
        "            Conv2D(filters = 32, kernel_size=(3,3), activation='relu', input_shape=input_shape) ,\n",
        "            Conv2D(filters = 32, kernel_size=(3,3), activation='relu', padding='same') ,\n",
        "            MaxPool2D(),\n",
        "            Dropout(0.3),\n",
        "\n",
        "            Conv2D(filters = 64, kernel_size=(3,3), activation='relu') ,\n",
        "            Conv2D(filters = 64, kernel_size=(3,3), activation='relu', padding='same') ,\n",
        "            MaxPool2D(),\n",
        "            Dropout(0.3),\n",
        "\n",
        "            Conv2D(filters = 64, kernel_size=(3,3), activation='relu') ,\n",
        "            Conv2D(filters = 64, kernel_size=(3,3), activation='relu', padding='same') ,\n",
        "            MaxPool2D(),\n",
        "            Dropout(0.3),\n",
        "\n",
        "            Flatten(),\n",
        "            \n",
        "            Dense(1024, activation='relu'),     \n",
        "            Dropout(0.3),\n",
        "\n",
        "            Dense(1024, activation='relu'),     \n",
        "            Dropout(0.3),\n",
        "            \n",
        "            Dense(num_classes, activation='softmax'),\n",
        "              ])\n",
        "\n",
        "\n"
      ],
      "execution_count": 0,
      "outputs": []
    },
    {
      "cell_type": "code",
      "metadata": {
        "id": "jn0JHfbtGJoi",
        "colab_type": "code",
        "outputId": "977c9847-56e1-46f3-b3e2-f143fa522536",
        "colab": {
          "base_uri": "https://localhost:8080/",
          "height": 212
        }
      },
      "source": [
        "model = get_cnn_v5(input_shape,num_classes)\n",
        "model_trained = train_model(model,X_train,y_train, params_fit={} )\n",
        "predict(model_trained, X_test, y_test )"
      ],
      "execution_count": 13,
      "outputs": [
        {
          "output_type": "stream",
          "text": [
            "Epoch 1/5\n",
            "272/272 [==============================] - 4s 14ms/step - loss: 2.4605 - accuracy: 0.3143 - val_loss: 1.0683 - val_accuracy: 0.6808\n",
            "Epoch 2/5\n",
            "272/272 [==============================] - 4s 13ms/step - loss: 0.8741 - accuracy: 0.7194 - val_loss: 0.3044 - val_accuracy: 0.9152\n",
            "Epoch 3/5\n",
            "272/272 [==============================] - 4s 13ms/step - loss: 0.4289 - accuracy: 0.8636 - val_loss: 0.1382 - val_accuracy: 0.9574\n",
            "Epoch 4/5\n",
            "272/272 [==============================] - 4s 13ms/step - loss: 0.3142 - accuracy: 0.9014 - val_loss: 0.0993 - val_accuracy: 0.9712\n",
            "Epoch 5/5\n",
            "272/272 [==============================] - 4s 13ms/step - loss: 0.2424 - accuracy: 0.9255 - val_loss: 0.0723 - val_accuracy: 0.9835\n"
          ],
          "name": "stdout"
        },
        {
          "output_type": "execute_result",
          "data": {
            "text/plain": [
              "0.954875283446712"
            ]
          },
          "metadata": {
            "tags": []
          },
          "execution_count": 13
        }
      ]
    },
    {
      "cell_type": "code",
      "metadata": {
        "id": "3UYBQVZITSfj",
        "colab_type": "code",
        "colab": {}
      },
      "source": [
        "def get_model(params):\n",
        " return Sequential([\n",
        "            Conv2D(filters = 32, kernel_size=(3,3), activation='relu', input_shape=input_shape) ,\n",
        "            Conv2D(filters = 32, kernel_size=(3,3), activation='relu', padding='same') ,\n",
        "            MaxPool2D(),\n",
        "            Dropout(params['dropout_cnn_block_one']),\n",
        "\n",
        "            Conv2D(filters = 64, kernel_size=(3,3), activation='relu') ,\n",
        "            Conv2D(filters = 64, kernel_size=(3,3), activation='relu', padding='same') ,\n",
        "            MaxPool2D(),\n",
        "            Dropout(params['dropout_cnn_block_two']),\n",
        "\n",
        "            Conv2D(filters = 128, kernel_size=(3,3), activation='relu') ,\n",
        "            Conv2D(filters = 128, kernel_size=(3,3), activation='relu', padding='same') ,\n",
        "            MaxPool2D(),\n",
        "            Dropout(params['dropout_cnn_block_three']),\n",
        "\n",
        "            Flatten(),\n",
        "            \n",
        "            Dense(1024, activation='relu'),     \n",
        "            Dropout(params['dropout_dense_block_one']),\n",
        "\n",
        "            Dense(1024, activation='relu'),     \n",
        "            Dropout(params['dropout_dense_block_two']),\n",
        "\n",
        "            \n",
        "            Dense(num_classes, activation='softmax'),\n",
        "              ])\n"
      ],
      "execution_count": 0,
      "outputs": []
    },
    {
      "cell_type": "code",
      "metadata": {
        "id": "Xgut7wjUOjsi",
        "colab_type": "code",
        "colab": {}
      },
      "source": [
        "def func_obj(params):\n",
        "  model = get_model(params)\n",
        "  model.compile(loss='categorical_crossentropy', optimizer='Adam', metrics=['accuracy'])\n",
        "\n",
        "  model.fit(X_train,\n",
        "            y_train,\n",
        "            batch_size = int(params.get('batch_size', 128)),\n",
        "            epochs = 5,\n",
        "            verbose =0\n",
        "            \n",
        "            \n",
        "            )\n",
        "  score = model.evaluate(X_test,y_test,verbose=0)\n",
        "  accuracy = score[1]\n",
        "  print(params, 'accuracy={}'.format(accuracy) )\n",
        "  return {'loss': -accuracy, 'status': STATUS_OK, 'model': model}\n",
        "\n",
        "\n"
      ],
      "execution_count": 0,
      "outputs": []
    },
    {
      "cell_type": "code",
      "metadata": {
        "id": "evqYvV0jQU9w",
        "colab_type": "code",
        "colab": {}
      },
      "source": [
        "space = {\n",
        "'batch_size': hp.quniform('batch_size', 100, 200, 20),\n",
        "'dropout_cnn_block_one': hp.uniform('dropout_cnn_block_one', 0.3, 0.5),\n",
        "'dropout_cnn_block_two': hp.uniform('dropout_cnn_block_two', 0.3, 0.5),\n",
        "'dropout_cnn_block_three': hp.uniform('dropout_cnn_block_three', 0.3, 0.5),\n",
        "\n",
        "'dropout_dense_block_one': hp.uniform('dropout_dense_block_one', 0.3, 0.7),\n",
        "'dropout_dense_block_two': hp.uniform('dropout_dense_block_two', 0.3, 0.7)\n",
        "}"
      ],
      "execution_count": 0,
      "outputs": []
    },
    {
      "cell_type": "code",
      "metadata": {
        "id": "pPMtmgUIRGhb",
        "colab_type": "code",
        "colab": {
          "base_uri": "https://localhost:8080/",
          "height": 943
        },
        "outputId": "2e3a9daf-af8f-4106-c5dd-0ae24798c14a"
      },
      "source": [
        "best = fmin( \n",
        "    func_obj,\n",
        "    space,\n",
        "    tpe.suggest,\n",
        "    25,\n",
        "    Trials()\n",
        ")"
      ],
      "execution_count": 36,
      "outputs": [
        {
          "output_type": "stream",
          "text": [
            "{'batch_size': 160.0, 'dropout_cnn_block_one': 0.4393880138013452, 'dropout_cnn_block_three': 0.309703213154121, 'dropout_cnn_block_two': 0.4694109939129939, 'dropout_dense_block_one': 0.6981222784070968, 'dropout_dense_block_two': 0.5265793354379993}\n",
            "accuracy=0.9079365134239197\n",
            "{'batch_size': 120.0, 'dropout_cnn_block_one': 0.3796812066720972, 'dropout_cnn_block_three': 0.37805610716720145, 'dropout_cnn_block_two': 0.38389650282975774, 'dropout_dense_block_one': 0.6054323163265533, 'dropout_dense_block_two': 0.5929974183416844}\n",
            "accuracy=0.9272108674049377\n",
            "{'batch_size': 120.0, 'dropout_cnn_block_one': 0.41890244339931915, 'dropout_cnn_block_three': 0.45063014259068984, 'dropout_cnn_block_two': 0.3249495766928228, 'dropout_dense_block_one': 0.6894444173225106, 'dropout_dense_block_two': 0.3833359165069733}\n",
            "accuracy=0.8938775658607483\n",
            "{'batch_size': 100.0, 'dropout_cnn_block_one': 0.36286774052889303, 'dropout_cnn_block_three': 0.37680319495721104, 'dropout_cnn_block_two': 0.30250615177046275, 'dropout_dense_block_one': 0.4285152805170624, 'dropout_dense_block_two': 0.6968088436406337}\n",
            "accuracy=0.9668934345245361\n",
            "{'batch_size': 180.0, 'dropout_cnn_block_one': 0.47004316712899563, 'dropout_cnn_block_three': 0.3082478033030455, 'dropout_cnn_block_two': 0.49774493715438917, 'dropout_dense_block_one': 0.43591953447330295, 'dropout_dense_block_two': 0.6638413740351814}\n",
            "accuracy=0.8589569330215454\n",
            "{'batch_size': 180.0, 'dropout_cnn_block_one': 0.4568617867995034, 'dropout_cnn_block_three': 0.4837808294951665, 'dropout_cnn_block_two': 0.4691380293867663, 'dropout_dense_block_one': 0.5114645967231329, 'dropout_dense_block_two': 0.3146300376903528}\n",
            "accuracy=0.9192743897438049\n",
            "{'batch_size': 200.0, 'dropout_cnn_block_one': 0.36159090094101864, 'dropout_cnn_block_three': 0.4588810341685557, 'dropout_cnn_block_two': 0.35254232760477705, 'dropout_dense_block_one': 0.3945439058990687, 'dropout_dense_block_two': 0.5829976522798486}\n",
            "accuracy=0.9580498933792114\n",
            "{'batch_size': 140.0, 'dropout_cnn_block_one': 0.45709322894237814, 'dropout_cnn_block_three': 0.4547378568975109, 'dropout_cnn_block_two': 0.4395720761690096, 'dropout_dense_block_one': 0.5131292997230731, 'dropout_dense_block_two': 0.5285749913948432}\n",
            "accuracy=0.9124716520309448\n",
            "{'batch_size': 120.0, 'dropout_cnn_block_one': 0.301951723177778, 'dropout_cnn_block_three': 0.35977425011802466, 'dropout_cnn_block_two': 0.3332114673456226, 'dropout_dense_block_one': 0.5310555717201431, 'dropout_dense_block_two': 0.5143094548841181}\n",
            "accuracy=0.9678004384040833\n",
            "{'batch_size': 180.0, 'dropout_cnn_block_one': 0.3370052307648335, 'dropout_cnn_block_three': 0.3151071115207616, 'dropout_cnn_block_two': 0.4931061066636686, 'dropout_dense_block_one': 0.6604696944804459, 'dropout_dense_block_two': 0.5062856569323819}\n",
            "accuracy=0.9321995377540588\n",
            "{'batch_size': 160.0, 'dropout_cnn_block_one': 0.3667505891502728, 'dropout_cnn_block_three': 0.4279246121247158, 'dropout_cnn_block_two': 0.4569543389215492, 'dropout_dense_block_one': 0.300026338431255, 'dropout_dense_block_two': 0.6240292311792157}\n",
            "accuracy=0.9376417398452759\n",
            "{'batch_size': 120.0, 'dropout_cnn_block_one': 0.41018984002172987, 'dropout_cnn_block_three': 0.4496185106949919, 'dropout_cnn_block_two': 0.45684874339495546, 'dropout_dense_block_one': 0.49680943740514294, 'dropout_dense_block_two': 0.5032402280772433}\n",
            "accuracy=0.9448979496955872\n",
            "{'batch_size': 200.0, 'dropout_cnn_block_one': 0.3475716583075578, 'dropout_cnn_block_three': 0.32616096085500995, 'dropout_cnn_block_two': 0.4916971551200438, 'dropout_dense_block_one': 0.6786678223084421, 'dropout_dense_block_two': 0.38689851610273546}\n",
            "accuracy=0.9058957099914551\n",
            "{'batch_size': 140.0, 'dropout_cnn_block_one': 0.35600521977851224, 'dropout_cnn_block_three': 0.3441963474686314, 'dropout_cnn_block_two': 0.382732839692206, 'dropout_dense_block_one': 0.34935276802619497, 'dropout_dense_block_two': 0.3775794557800969}\n",
            "accuracy=0.9664399027824402\n",
            "{'batch_size': 160.0, 'dropout_cnn_block_one': 0.4820519204595678, 'dropout_cnn_block_three': 0.48397598154719057, 'dropout_cnn_block_two': 0.4541698182554539, 'dropout_dense_block_one': 0.5560539296027944, 'dropout_dense_block_two': 0.4768365295412804}\n",
            "accuracy=0.8444444537162781\n",
            "{'batch_size': 160.0, 'dropout_cnn_block_one': 0.38310657234779866, 'dropout_cnn_block_three': 0.3911369410198552, 'dropout_cnn_block_two': 0.3382098352886638, 'dropout_dense_block_one': 0.5526000699218565, 'dropout_dense_block_two': 0.5785062740609139}\n",
            "accuracy=0.9546485543251038\n",
            "{'batch_size': 120.0, 'dropout_cnn_block_one': 0.30436248982282266, 'dropout_cnn_block_three': 0.39003076650718355, 'dropout_cnn_block_two': 0.43634551810392896, 'dropout_dense_block_one': 0.46798554077821386, 'dropout_dense_block_two': 0.35160151911327936}\n",
            "accuracy=0.9712018370628357\n",
            "{'batch_size': 180.0, 'dropout_cnn_block_one': 0.3714057173425085, 'dropout_cnn_block_three': 0.39092633520797365, 'dropout_cnn_block_two': 0.313085030246509, 'dropout_dense_block_one': 0.4014421782794533, 'dropout_dense_block_two': 0.401082958552914}\n",
            "accuracy=0.9437641501426697\n",
            "{'batch_size': 200.0, 'dropout_cnn_block_one': 0.4416817847760649, 'dropout_cnn_block_three': 0.4842653308460598, 'dropout_cnn_block_two': 0.35864546142217524, 'dropout_dense_block_one': 0.5375770873900388, 'dropout_dense_block_two': 0.4532016702076215}\n",
            "accuracy=0.9337868690490723\n",
            "{'batch_size': 120.0, 'dropout_cnn_block_one': 0.30508121935690347, 'dropout_cnn_block_three': 0.47003716850161614, 'dropout_cnn_block_two': 0.4709118062871806, 'dropout_dense_block_one': 0.6234282030625415, 'dropout_dense_block_two': 0.40118214608257413}\n",
            "accuracy=0.9471655488014221\n",
            "{'batch_size': 100.0, 'dropout_cnn_block_one': 0.30295001452813014, 'dropout_cnn_block_three': 0.3516244678481783, 'dropout_cnn_block_two': 0.4154226162702324, 'dropout_dense_block_one': 0.46175177238468534, 'dropout_dense_block_two': 0.4485782313652472}\n",
            "accuracy=0.9668934345245361\n",
            "{'batch_size': 100.0, 'dropout_cnn_block_one': 0.33242444782217584, 'dropout_cnn_block_three': 0.42514566904504053, 'dropout_cnn_block_two': 0.4296403247045526, 'dropout_dense_block_one': 0.4763969156762341, 'dropout_dense_block_two': 0.327000859936749}\n",
            "accuracy=0.9657596349716187\n",
            "{'batch_size': 140.0, 'dropout_cnn_block_one': 0.3221436417429079, 'dropout_cnn_block_three': 0.3558317315293905, 'dropout_cnn_block_two': 0.39335281348080786, 'dropout_dense_block_one': 0.6012156713469508, 'dropout_dense_block_two': 0.43098224623130776}\n",
            "accuracy=0.9709750413894653\n",
            "{'batch_size': 140.0, 'dropout_cnn_block_one': 0.3227438153496301, 'dropout_cnn_block_three': 0.4169716118696312, 'dropout_cnn_block_two': 0.4030693501036848, 'dropout_dense_block_one': 0.5904813439322345, 'dropout_dense_block_two': 0.3421187348892162}\n",
            "accuracy=0.9528344869613647\n",
            "{'batch_size': 140.0, 'dropout_cnn_block_one': 0.31264439865748017, 'dropout_cnn_block_three': 0.33368617983422144, 'dropout_cnn_block_two': 0.37608926040770985, 'dropout_dense_block_one': 0.6464003457562828, 'dropout_dense_block_two': 0.4292558482847306}\n",
            "accuracy=0.9612244963645935\n",
            "100%|██████████| 25/25 [04:15<00:00, 10.23s/it, best loss: -0.9712018370628357]\n"
          ],
          "name": "stdout"
        }
      ]
    }
  ]
}